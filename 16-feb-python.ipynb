{
 "cells": [
  {
   "cell_type": "code",
   "execution_count": 1,
   "id": "aa366ff5-cd78-488f-8286-f7a807d08422",
   "metadata": {},
   "outputs": [
    {
     "data": {
      "text/plain": [
       "'\\nA database is an organized collection of structured information, or data, typically stored electronically in a computer system.\\nA database is usually controlled by a database management system (DBMS).\\n\\n\\nSQL databases are vertically scalable, while NoSQL databases are horizontally scalable.\\nSQL databases are table-based, while NoSQL databases are document, key-value, graph, or wide-column stores.\\nSQL databases are better for multi-row transactions, while NoSQL is better for unstructured data like documents or JSON.\\n'"
      ]
     },
     "execution_count": 1,
     "metadata": {},
     "output_type": "execute_result"
    }
   ],
   "source": [
    "## Q No. 1 :\n",
    "\"\"\"\n",
    "A database is an organized collection of structured information, or data, typically stored electronically in a computer system.\n",
    "A database is usually controlled by a database management system (DBMS).\n",
    "\n",
    "\n",
    "SQL databases are vertically scalable, while NoSQL databases are horizontally scalable.\n",
    "SQL databases are table-based, while NoSQL databases are document, key-value, graph, or wide-column stores.\n",
    "SQL databases are better for multi-row transactions, while NoSQL is better for unstructured data like documents or JSON.\n",
    "\"\"\""
   ]
  },
  {
   "cell_type": "code",
   "execution_count": 2,
   "id": "3b3990aa-686c-44c2-9b5d-e8a27b9990c7",
   "metadata": {},
   "outputs": [
    {
     "data": {
      "text/plain": [
       "\"\\nDDL is an abbreviation of Data Definition Language.\\n\\nThe DDL Commands in Structured Query Language are used to create and modify the schema of the database and its objects. \\nThe syntax of DDL commands is predefined for describing the data. \\nThe commands of Data Definition Language deal with how the data should exist in the database.\\n\\nFollowing are the five DDL commands in SQL:\\n\\n1.CREATE Command\\nCREATE is a DDL command used to create databases, tables, triggers and other database objects.\\nExample 1: This example describes how to create a new database using the CREATE DDL command.\\n\\nSyntax to Create a Database:\\n\\nCREATE Database Database_Name;  \\nSuppose, you want to create a Books database in the SQL database. To do this, you have to write the following DDL Command:\\n\\nCreate Database Books;  \\n\\n2.DROP Command\\nDROP is a DDL command used to delete/remove the database objects from the SQL database. \\nWe can easily remove the entire table, view, or index from the database using this DDL command.\\n\\nExamples of DROP Command in SQL\\nExample 1: This example describes how to remove a database from the SQL database.\\n\\nSyntax to remove a database:\\n\\nDROP DATABASE Database_Name;  \\nSuppose, you want to delete the Books database from the SQL database. To do this, you have to write the following DDL command:\\n\\nDROP DATABASE Books;  \\n3.ALTER Command\\nALTER is a DDL command which changes or modifies the existing structure of the database, and it also changes the schema of database objects.\\n\\nWe can also add and drop constraints of the table using the ALTER command.\\n\\nExamples of ALTER Command in SQL\\nExample 1: This example shows how to add a new field to the existing table.\\n\\nSyntax to add a newfield in the table:\\n\\nALTER TABLE name_of_table ADD column_name column_definition;  \\nSuppose, you want to add the 'Father's_Name' column in the existing Student table.\\nTo do this, you have to write the following DDL command:\\n\\nALTER TABLE Student ADD Father's_Name Varchar(60); \\n4.TRUNCATE Command\\n\\nTRUNCATE is another DDL command which deletes or removes all the records from the table.\\n\\nThis command also removes the space allocated for storing the table records.\\n\\nSyntax of TRUNCATE command\\n\\nTRUNCATE TABLE Table_Name;  \\nExample\\nSuppose, you want to delete the record of the Student table. To do this, you have to write the following TRUNCATE DDL command:\\n\\nTRUNCATE TABLE Student;  \\nThe above query successfully removed all the records from the student table. Let's verify it by using the following SELECT statement:\\n\\nSELECT * FROM Student;  \\n5.RENAME Command\\nRENAME is a DDL command which is used to change the name of the database table.\\n\\nSyntax of RENAME command\\n\\nRENAME TABLE Old_Table_Name TO New_Table_Name;  \\nExample\\nRENAME TABLE Student TO Student_Details ;  \\n\\n\""
      ]
     },
     "execution_count": 2,
     "metadata": {},
     "output_type": "execute_result"
    }
   ],
   "source": [
    "## Q No. 2 :\n",
    "\n",
    "\"\"\"\n",
    "DDL is an abbreviation of Data Definition Language.\n",
    "\n",
    "The DDL Commands in Structured Query Language are used to create and modify the schema of the database and its objects. \n",
    "The syntax of DDL commands is predefined for describing the data. \n",
    "The commands of Data Definition Language deal with how the data should exist in the database.\n",
    "\n",
    "Following are the five DDL commands in SQL:\n",
    "\n",
    "1.CREATE Command\n",
    "CREATE is a DDL command used to create databases, tables, triggers and other database objects.\n",
    "Example 1: This example describes how to create a new database using the CREATE DDL command.\n",
    "\n",
    "Syntax to Create a Database:\n",
    "\n",
    "CREATE Database Database_Name;  \n",
    "Suppose, you want to create a Books database in the SQL database. To do this, you have to write the following DDL Command:\n",
    "\n",
    "Create Database Books;  \n",
    "\n",
    "2.DROP Command\n",
    "DROP is a DDL command used to delete/remove the database objects from the SQL database. \n",
    "We can easily remove the entire table, view, or index from the database using this DDL command.\n",
    "\n",
    "Examples of DROP Command in SQL\n",
    "Example 1: This example describes how to remove a database from the SQL database.\n",
    "\n",
    "Syntax to remove a database:\n",
    "\n",
    "DROP DATABASE Database_Name;  \n",
    "Suppose, you want to delete the Books database from the SQL database. To do this, you have to write the following DDL command:\n",
    "\n",
    "DROP DATABASE Books;  \n",
    "3.ALTER Command\n",
    "ALTER is a DDL command which changes or modifies the existing structure of the database, and it also changes the schema of database objects.\n",
    "\n",
    "We can also add and drop constraints of the table using the ALTER command.\n",
    "\n",
    "Examples of ALTER Command in SQL\n",
    "Example 1: This example shows how to add a new field to the existing table.\n",
    "\n",
    "Syntax to add a newfield in the table:\n",
    "\n",
    "ALTER TABLE name_of_table ADD column_name column_definition;  \n",
    "Suppose, you want to add the 'Father's_Name' column in the existing Student table.\n",
    "To do this, you have to write the following DDL command:\n",
    "\n",
    "ALTER TABLE Student ADD Father's_Name Varchar(60); \n",
    "4.TRUNCATE Command\n",
    "\n",
    "TRUNCATE is another DDL command which deletes or removes all the records from the table.\n",
    "\n",
    "This command also removes the space allocated for storing the table records.\n",
    "\n",
    "Syntax of TRUNCATE command\n",
    "\n",
    "TRUNCATE TABLE Table_Name;  \n",
    "Example\n",
    "Suppose, you want to delete the record of the Student table. To do this, you have to write the following TRUNCATE DDL command:\n",
    "\n",
    "TRUNCATE TABLE Student;  \n",
    "The above query successfully removed all the records from the student table. Let's verify it by using the following SELECT statement:\n",
    "\n",
    "SELECT * FROM Student;  \n",
    "5.RENAME Command\n",
    "RENAME is a DDL command which is used to change the name of the database table.\n",
    "\n",
    "Syntax of RENAME command\n",
    "\n",
    "RENAME TABLE Old_Table_Name TO New_Table_Name;  \n",
    "Example\n",
    "RENAME TABLE Student TO Student_Details ;  \n",
    "\n",
    "\"\"\""
   ]
  },
  {
   "cell_type": "code",
   "execution_count": 3,
   "id": "d090e508-551b-41ee-8f93-633567768d41",
   "metadata": {},
   "outputs": [
    {
     "data": {
      "text/plain": [
       "\"\\nDML is an abbreviation for Data Manipulation Language. \\nRepresents a collection of programming languages explicitly used to make changes to the database, such as:\\n\\n1.CRUD operations to create, read, update and delete data.\\n2.Using INSERT, SELECT, UPDATE, and DELETE commands.\\nExamples of DML Commands\\n-> INSERT: command to add new or new value to the database\\n\\nINSERT DML Command\\nINSERT is another most important data manipulation command in Structured Query Language, which allows users to insert data in database tables.\\n\\nSyntax of INSERT Command\\n\\nINSERT INTO TABLE_NAME ( column_Name1 , column_Name2 , column_Name3 , .... column_NameN )  VALUES (value_1, value_2, value_3, .... value_N ) ;   \\nExamples of INSERT Command\\nExample 1: This example describes how to insert the record in the database table.\\n\\nLet's take the following student table, which consists of only 2 records of the student.\\n\\nStu_Id\\tStu_Name\\tStu_Marks\\tStu_Age\\n101\\tRamesh\\t92\\t20\\n201\\tJatin\\t83\\t19\\nSuppose, you want to insert a new record into the student table. For this, you have to write the following DML INSERT command:\\n\\nINSERT INTO Student (Stu_id, Stu_Name, Stu_Marks, Stu_Age) VALUES (104, Anmol, 89, 19);  \\n\\n\\nUPDATE: command to change or update current/existing data to a more recent value within the database\\n\\nUPDATE is another most important data manipulation command in Structured Query Language, which allows users to update\\nor modify the existing data in database tables.\\n\\nSyntax of UPDATE Command\\n\\nUPDATE Table_name SET [column_name1= value_1, ….., column_nameN = value_N] WHERE CONDITION;  \\nHere, 'UPDATE', 'SET', and 'WHERE' are the SQL keywords, and 'Table_name' is the name of the table whose values you \\nwant to update.\\n\\nExamples of the UPDATE command\\nExample 1: This example describes how to update the value of a single field.\\n\\nLet's take a Product table consisting of the following records:\\n\\nProduct_Id\\tProduct_Name\\tProduct_Price\\tProduct_Quantity\\nP101\\tChips\\t20\\t20\\nP102\\tChocolates\\t60\\t40\\nP103\\tMaggi\\t75\\t5\\nP201\\tBiscuits\\t80\\t20\\nP203\\tNamkeen\\t40\\t50\\nSuppose, you want to update the Product_Price of the product whose Product_Id is P102. \\nTo do this, you have to write the following DML UPDATE command:\\n\\nUPDATE Product SET Product_Price = 80 WHERE Product_Id = 'P102' ;  \\n\\n\\n\\n\\nDELETE: command to delete or delete the values or data information of the current table in the database\\nThis command of Data Manipulation Language does not delete the stored data permanently from the database.\\nWe use the WHERE clause with the DELETE command to select specific rows from the table.\\n\\nSyntax of DELETE Command\\n\\nDELETE FROM Table_Name WHERE condition;  \\nExamples of DELETE Command\\nExample 1: This example describes how to delete a single record from the table.\\n\\nLet's take a Product table consisting of the following records:\\n\\nProduct_Id\\tProduct_Name\\tProduct_Price\\tProduct_Quantity\\nP101\\tChips\\t20\\t20\\nP102\\tChocolates\\t60\\t40\\nP103\\tMaggi\\t75\\t5\\nP201\\tBiscuits\\t80\\t20\\nP203\\tNamkeen\\t40\\t50\\nSuppose, you want to delete that product from the Product table whose Product_Id is P203. \\nTo do this, you have to write the following DML DELETE command:\\n\\nDELETE FROM Product WHERE Product_Id = 'P202' ;  \\n\\n\""
      ]
     },
     "execution_count": 3,
     "metadata": {},
     "output_type": "execute_result"
    }
   ],
   "source": [
    "## Q No. 3 :\n",
    "\n",
    "\"\"\"\n",
    "DML is an abbreviation for Data Manipulation Language. \n",
    "Represents a collection of programming languages explicitly used to make changes to the database, such as:\n",
    "\n",
    "1.CRUD operations to create, read, update and delete data.\n",
    "2.Using INSERT, SELECT, UPDATE, and DELETE commands.\n",
    "Examples of DML Commands\n",
    "-> INSERT: command to add new or new value to the database\n",
    "\n",
    "INSERT DML Command\n",
    "INSERT is another most important data manipulation command in Structured Query Language, which allows users to insert data in database tables.\n",
    "\n",
    "Syntax of INSERT Command\n",
    "\n",
    "INSERT INTO TABLE_NAME ( column_Name1 , column_Name2 , column_Name3 , .... column_NameN )  VALUES (value_1, value_2, value_3, .... value_N ) ;   \n",
    "Examples of INSERT Command\n",
    "Example 1: This example describes how to insert the record in the database table.\n",
    "\n",
    "Let's take the following student table, which consists of only 2 records of the student.\n",
    "\n",
    "Stu_Id\tStu_Name\tStu_Marks\tStu_Age\n",
    "101\tRamesh\t92\t20\n",
    "201\tJatin\t83\t19\n",
    "Suppose, you want to insert a new record into the student table. For this, you have to write the following DML INSERT command:\n",
    "\n",
    "INSERT INTO Student (Stu_id, Stu_Name, Stu_Marks, Stu_Age) VALUES (104, Anmol, 89, 19);  \n",
    "\n",
    "\n",
    "UPDATE: command to change or update current/existing data to a more recent value within the database\n",
    "\n",
    "UPDATE is another most important data manipulation command in Structured Query Language, which allows users to update\n",
    "or modify the existing data in database tables.\n",
    "\n",
    "Syntax of UPDATE Command\n",
    "\n",
    "UPDATE Table_name SET [column_name1= value_1, ….., column_nameN = value_N] WHERE CONDITION;  \n",
    "Here, 'UPDATE', 'SET', and 'WHERE' are the SQL keywords, and 'Table_name' is the name of the table whose values you \n",
    "want to update.\n",
    "\n",
    "Examples of the UPDATE command\n",
    "Example 1: This example describes how to update the value of a single field.\n",
    "\n",
    "Let's take a Product table consisting of the following records:\n",
    "\n",
    "Product_Id\tProduct_Name\tProduct_Price\tProduct_Quantity\n",
    "P101\tChips\t20\t20\n",
    "P102\tChocolates\t60\t40\n",
    "P103\tMaggi\t75\t5\n",
    "P201\tBiscuits\t80\t20\n",
    "P203\tNamkeen\t40\t50\n",
    "Suppose, you want to update the Product_Price of the product whose Product_Id is P102. \n",
    "To do this, you have to write the following DML UPDATE command:\n",
    "\n",
    "UPDATE Product SET Product_Price = 80 WHERE Product_Id = 'P102' ;  \n",
    "\n",
    "\n",
    "\n",
    "\n",
    "DELETE: command to delete or delete the values or data information of the current table in the database\n",
    "This command of Data Manipulation Language does not delete the stored data permanently from the database.\n",
    "We use the WHERE clause with the DELETE command to select specific rows from the table.\n",
    "\n",
    "Syntax of DELETE Command\n",
    "\n",
    "DELETE FROM Table_Name WHERE condition;  \n",
    "Examples of DELETE Command\n",
    "Example 1: This example describes how to delete a single record from the table.\n",
    "\n",
    "Let's take a Product table consisting of the following records:\n",
    "\n",
    "Product_Id\tProduct_Name\tProduct_Price\tProduct_Quantity\n",
    "P101\tChips\t20\t20\n",
    "P102\tChocolates\t60\t40\n",
    "P103\tMaggi\t75\t5\n",
    "P201\tBiscuits\t80\t20\n",
    "P203\tNamkeen\t40\t50\n",
    "Suppose, you want to delete that product from the Product table whose Product_Id is P203. \n",
    "To do this, you have to write the following DML DELETE command:\n",
    "\n",
    "DELETE FROM Product WHERE Product_Id = 'P202' ;  \n",
    "\n",
    "\"\"\"\n"
   ]
  },
  {
   "cell_type": "code",
   "execution_count": 4,
   "id": "97330e76-9b33-4cea-b47a-95550e5250b6",
   "metadata": {},
   "outputs": [
    {
     "data": {
      "text/plain": [
       "'\\nDQL (Data Query Language) Command in SQL\\nDQL or data query language is to perform the query on the data inside the schema or object\\n(ie table, index, view, function, etc). \\nWith the help of a DQL query, we can get the data from the database to perform actions or operations like analyzing the data.\\n\\n\\nSELECT is the most important data manipulation command in Structured Query Language. The SELECT command shows the\\nrecords of the specified table. It also shows the particular record of a particular column by using the WHERE clause.\\n\\nSyntax of SELECT DML command\\n\\nSELECT column_Name_1, column_Name_2, ….., column_Name_N FROM Name_of_table;  \\nHere, column_Name_1, column_Name_2, ….., column_Name_N are the names of those columns whose data we want to retrieve\\nfrom the table.\\n\\nIf we want to retrieve the data from all the columns of the table, we have to use the following SELECT command:\\n\\nSELECT * FROM table_name;  \\nExamples of SELECT Command\\nExample 1: This example shows all the values of every column from the table.\\n\\nSELECT * FROM Student;  \\nThis SQL statement displays the following values of the student table:\\n\\nStudent_ID\\tStudent_Name\\tStudent_Marks\\nBCA1001\\tAbhay\\t85\\nBCA1002\\tAnuj\\t75\\nBCA1003\\tBheem\\t60\\nBCA1004\\tRam\\t79\\nBCA1005\\tSumit\\t80\\n'"
      ]
     },
     "execution_count": 4,
     "metadata": {},
     "output_type": "execute_result"
    }
   ],
   "source": [
    "## Q No. 4 :\n",
    "\"\"\"\n",
    "DQL (Data Query Language) Command in SQL\n",
    "DQL or data query language is to perform the query on the data inside the schema or object\n",
    "(ie table, index, view, function, etc). \n",
    "With the help of a DQL query, we can get the data from the database to perform actions or operations like analyzing the data.\n",
    "\n",
    "\n",
    "SELECT is the most important data manipulation command in Structured Query Language. The SELECT command shows the\n",
    "records of the specified table. It also shows the particular record of a particular column by using the WHERE clause.\n",
    "\n",
    "Syntax of SELECT DML command\n",
    "\n",
    "SELECT column_Name_1, column_Name_2, ….., column_Name_N FROM Name_of_table;  \n",
    "Here, column_Name_1, column_Name_2, ….., column_Name_N are the names of those columns whose data we want to retrieve\n",
    "from the table.\n",
    "\n",
    "If we want to retrieve the data from all the columns of the table, we have to use the following SELECT command:\n",
    "\n",
    "SELECT * FROM table_name;  \n",
    "Examples of SELECT Command\n",
    "Example 1: This example shows all the values of every column from the table.\n",
    "\n",
    "SELECT * FROM Student;  \n",
    "This SQL statement displays the following values of the student table:\n",
    "\n",
    "Student_ID\tStudent_Name\tStudent_Marks\n",
    "BCA1001\tAbhay\t85\n",
    "BCA1002\tAnuj\t75\n",
    "BCA1003\tBheem\t60\n",
    "BCA1004\tRam\t79\n",
    "BCA1005\tSumit\t80\n",
    "\"\"\""
   ]
  },
  {
   "cell_type": "code",
   "execution_count": 5,
   "id": "677e80e3-28c2-4cd2-8212-2e67bde7e0d5",
   "metadata": {},
   "outputs": [],
   "source": [
    "##  Q No. 5 :\n",
    "## A primary key generally focuses on the uniqueness of the table. It assures the value in the specific column is unique.\n",
    "## A foreign key is generally used to build a relationship between the two tables. The table allows only one primary key."
   ]
  },
  {
   "cell_type": "code",
   "execution_count": 7,
   "id": "af527d4c-9396-48b5-b661-8c37a084ba94",
   "metadata": {},
   "outputs": [
    {
     "data": {
      "text/plain": [
       "'\\nimport mysql.connector\\n# import mysql.connector\\n#create user \\'user\\'@\\'%\\' identified by \\'password\\'\\nmydb = mysql.connector.connect(\\n  host=\"localhost\",\\n  user=\"abc\",\\n  password=\"password\"\\n)\\nprint(mydb)\\nmycursor = mydb.cursor()\\nmycursor.execute(\"SHOW DATABASES\")\\nfor x in mycursor:\\n  print(x)\\n\\nA cursor is an object which helps to execute the query and fetch the records from the database. \\nThe Execute method executes a specified query, SQL statement, stored procedure, or provider-specific text. \\nThe results are stored in a new Recordset object if it is a row-returning query. \\nA closed Recordset object will be returned if it is not a row-returning query.\\n'"
      ]
     },
     "execution_count": 7,
     "metadata": {},
     "output_type": "execute_result"
    }
   ],
   "source": [
    "## Q No. 6 :\n",
    "\"\"\"\n",
    "import mysql.connector\n",
    "# import mysql.connector\n",
    "#create user 'user'@'%' identified by 'password'\n",
    "mydb = mysql.connector.connect(\n",
    "  host=\"localhost\",\n",
    "  user=\"abc\",\n",
    "  password=\"password\"\n",
    ")\n",
    "print(mydb)\n",
    "mycursor = mydb.cursor()\n",
    "mycursor.execute(\"SHOW DATABASES\")\n",
    "for x in mycursor:\n",
    "  print(x)\n",
    "\n",
    "A cursor is an object which helps to execute the query and fetch the records from the database. \n",
    "The Execute method executes a specified query, SQL statement, stored procedure, or provider-specific text. \n",
    "The results are stored in a new Recordset object if it is a row-returning query. \n",
    "A closed Recordset object will be returned if it is not a row-returning query.\n",
    "\"\"\""
   ]
  },
  {
   "cell_type": "code",
   "execution_count": 9,
   "id": "1f013655-0604-4449-b85b-8b0d2ffc28ba",
   "metadata": {},
   "outputs": [
    {
     "data": {
      "text/plain": [
       "'\\n\\nThe order in which the clauses in queries are executed is as follows:\\n\\n1. FROM/JOIN: The FROM and/or JOIN clauses are executed first to determine the data of interest.\\n\\n2. WHERE: The WHERE clause is executed to filter out records that do not meet the constraints.\\n\\n3. GROUP BY: The GROUP BY clause is executed to group the data based on the values in one or more columns.\\n\\n4. HAVING: The HAVING clause is executed to remove the created grouped records that don’t meet the constraints.\\n\\n5. SELECT: The SELECT clause is executed to derive all desired columns and expressions.\\n\\n6. ORDER BY: The ORDER BY clause is executed to sort the derived values in ascending or descending order.\\n\\n7. LIMIT/OFFSET: Finally, the LIMIT and/or OFFSET clauses are executed to keep or skip a specified number of rows.\\n\\n'"
      ]
     },
     "execution_count": 9,
     "metadata": {},
     "output_type": "execute_result"
    }
   ],
   "source": [
    "## Q No. 7 :\n",
    "\"\"\"\n",
    "\n",
    "The order in which the clauses in queries are executed is as follows:\n",
    "\n",
    "1. FROM/JOIN: The FROM and/or JOIN clauses are executed first to determine the data of interest.\n",
    "\n",
    "2. WHERE: The WHERE clause is executed to filter out records that do not meet the constraints.\n",
    "\n",
    "3. GROUP BY: The GROUP BY clause is executed to group the data based on the values in one or more columns.\n",
    "\n",
    "4. HAVING: The HAVING clause is executed to remove the created grouped records that don’t meet the constraints.\n",
    "\n",
    "5. SELECT: The SELECT clause is executed to derive all desired columns and expressions.\n",
    "\n",
    "6. ORDER BY: The ORDER BY clause is executed to sort the derived values in ascending or descending order.\n",
    "\n",
    "7. LIMIT/OFFSET: Finally, the LIMIT and/or OFFSET clauses are executed to keep or skip a specified number of rows.\n",
    "\n",
    "\"\"\""
   ]
  }
 ],
 "metadata": {
  "kernelspec": {
   "display_name": "Python 3 (ipykernel)",
   "language": "python",
   "name": "python3"
  },
  "language_info": {
   "codemirror_mode": {
    "name": "ipython",
    "version": 3
   },
   "file_extension": ".py",
   "mimetype": "text/x-python",
   "name": "python",
   "nbconvert_exporter": "python",
   "pygments_lexer": "ipython3",
   "version": "3.10.8"
  }
 },
 "nbformat": 4,
 "nbformat_minor": 5
}
